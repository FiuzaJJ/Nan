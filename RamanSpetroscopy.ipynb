{
  "cells": [
    {
      "cell_type": "code",
      "execution_count": null,
      "metadata": {
        "id": "9PzhR41K8eJ-"
      },
      "outputs": [
        {
          "data": {
            "text/plain": [
              "{}"
            ]
          },
          "execution_count": 11,
          "metadata": {},
          "output_type": "execute_result"
        }
      ],
      "source": [
        "#import data\n",
        "import pandas as pd\n",
        "import numpy as np\n",
        "import importlib\n",
        "import glob\n",
        "import numpy as np \n",
        "\n",
        "#change paths\n",
        "arr = pd.read_csv(\"test/transfer_plate.csv\").iloc[:, 1:-4].to_numpy()\n",
        "transfer_plate_labels=pd.read_csv(\"test/transfer_plate.csv\").iloc[:, -4:].to_numpy()\n",
        "test_data = pd.read_csv(\"test/96_samples.csv\",header=None).iloc[:, 1:].to_numpy()\n",
        "\n",
        "csv_files = glob.glob(\"train/*.csv\")\n",
        "dataframes = {}\n",
        "for file in csv_files:\n",
        "\n",
        "    dataframes[file] = pd.read_csv(file)\n",
        "\n"
      ]
    },
    {
      "cell_type": "code",
      "execution_count": 6,
      "metadata": {
        "id": "i05QVFKz-PUP"
      },
      "outputs": [],
      "source": [
        "transfer_plate_labels_1=[]\n",
        "for i in range(len(transfer_plate_labels)-1):\n",
        "\n",
        "    transfer_plate_labels_1.append(transfer_plate_labels[i])\n",
        "    transfer_plate_labels_1.append(transfer_plate_labels[i])\n",
        "\n",
        "transfer_plate_labels_1=np.array(transfer_plate_labels_1)[:192,-3:]\n",
        "transfer_plate_labels_1=np.array(transfer_plate_labels_1,dtype=np.float32)\n"
      ]
    },
    {
      "cell_type": "code",
      "execution_count": 10,
      "metadata": {
        "id": "lpF8WoNX_R6d"
      },
      "outputs": [
        {
          "name": "stderr",
          "output_type": "stream",
          "text": [
            "c:\\Users\\joaof\\anaconda3\\lib\\site-packages\\numpy\\core\\fromnumeric.py:3504: RuntimeWarning: Mean of empty slice.\n",
            "  return _methods._mean(a, axis=axis, dtype=dtype,\n",
            "c:\\Users\\joaof\\anaconda3\\lib\\site-packages\\numpy\\core\\_methods.py:129: RuntimeWarning: invalid value encountered in scalar divide\n",
            "  ret = ret.dtype.type(ret / rcount)\n",
            "c:\\Users\\joaof\\anaconda3\\lib\\site-packages\\numpy\\core\\_methods.py:206: RuntimeWarning: Degrees of freedom <= 0 for slice\n",
            "  ret = _var(a, axis=axis, dtype=dtype, out=out, ddof=ddof,\n",
            "c:\\Users\\joaof\\anaconda3\\lib\\site-packages\\numpy\\core\\_methods.py:163: RuntimeWarning: invalid value encountered in divide\n",
            "  arrmean = um.true_divide(arrmean, div, out=arrmean,\n",
            "c:\\Users\\joaof\\anaconda3\\lib\\site-packages\\numpy\\core\\_methods.py:198: RuntimeWarning: invalid value encountered in scalar divide\n",
            "  ret = ret.dtype.type(ret / rcount)\n"
          ]
        },
        {
          "data": {
            "text/plain": [
              "[]"
            ]
          },
          "execution_count": 10,
          "metadata": {},
          "output_type": "execute_result"
        }
      ],
      "source": [
        "from scipy.interpolate import interp1d\n",
        "\n",
        "target_wavenumbers = np.linspace(300, 1942, 1340)\n",
        "interpolated = []\n",
        "conc=[]\n",
        "\n",
        "for file in csv_files:\n",
        "    # Convert column names to float\n",
        "\n",
        "    wavelengths = dataframes[file].columns[:-5].astype(float)\n",
        "    # Get only the spectral data\n",
        "    intensities_y = (dataframes[file].values)\n",
        "    print(intensities_y)\n",
        "    conc.append(intensities_y[:,-5:-2])\n",
        "    #normalization steps --1-- scaling\n",
        "\n",
        "    intensities_y=intensities_y/(np.max(intensities_y))\n",
        "\n",
        "\n",
        "\n",
        "    # Interpolate each row (spectrum)\n",
        "\n",
        "    for row in intensities_y:\n",
        "\n",
        "        f = interp1d(wavelengths, row[:-5], kind='quadratic', fill_value='extrapolate')\n",
        "\n",
        "        interpolated.append(f(target_wavenumbers))\n",
        "\n",
        "\n",
        "\n",
        "interpolated=np.array(interpolated)\n",
        "\n",
        "#normalization step --2--\n",
        "\n",
        "interpolated=(interpolated-np.mean(interpolated))/np.std(interpolated)\n",
        "\n",
        "conc"
      ]
    },
    {
      "cell_type": "code",
      "execution_count": null,
      "metadata": {
        "id": "-y0Oga8e_ZyM"
      },
      "outputs": [],
      "source": [
        "arr = np.char.strip(arr.astype(str), \"[]\").astype(float)\n",
        "test_data = np.char.strip(test_data.astype(str),\"[]\").astype(float)\n",
        "\n",
        "# normalization step --- 1 --- scaling\n",
        "arr=arr/np.max(arr)\n",
        "\n",
        "test_data=test_data/np.max(test_data)\n"
      ]
    },
    {
      "cell_type": "markdown",
      "metadata": {
        "id": "M-2xtKTHBXRL"
      },
      "source": []
    },
    {
      "cell_type": "code",
      "execution_count": null,
      "metadata": {
        "id": "wK87nNGU_f61"
      },
      "outputs": [],
      "source": [
        "wavelengths=np.linspace(65,3350,2048)#make sure this is the actual interval.\n",
        "\n",
        "#interpolate test_data and the transfer_plate datasets(same format)\n",
        "transfer_plate=[]\n",
        "clean_test=[]\n",
        "for row in arr:\n",
        "\n",
        "    f = interp1d(wavelengths, row, kind='quadratic', fill_value='extrapolate')\n",
        "    transfer_plate.append(f(target_wavenumbers))\n",
        "\n",
        "for row in test_data:\n",
        "\n",
        "    g = interp1d(wavelengths, row, kind='quadratic', fill_value='extrapolate')\n",
        "\n",
        "    clean_test.append(g(target_wavenumbers))\n",
        "\n",
        "\n",
        "transfer_plate=(transfer_plate-np.mean(transfer_plate))/np.std(transfer_plate)\n",
        "clean_test=(clean_test-np.mean(clean_test))/np.std(clean_test)\n",
        "\n",
        "\n",
        "transfer_plate=np.array(transfer_plate,dtype=np.float32)"
      ]
    },
    {
      "cell_type": "code",
      "execution_count": null,
      "metadata": {
        "colab": {
          "base_uri": "https://localhost:8080/"
        },
        "id": "URa6QNJG_hIx",
        "outputId": "c09126f1-c4fb-40c4-b7c9-199f76601a61"
      },
      "outputs": [
        {
          "name": "stdout",
          "output_type": "stream",
          "text": [
            "0\n",
            "0\n"
          ]
        },
        {
          "data": {
            "text/plain": [
              "array([16.7344 ,  3.05065,  3.94541])"
            ]
          },
          "execution_count": 20,
          "metadata": {},
          "output_type": "execute_result"
        }
      ],
      "source": [
        "import Data_augment as Da\n",
        "importlib.reload(Da)\n",
        "\n",
        "train_data=np.concatenate((transfer_plate,interpolated))\n",
        "labels=np.concatenate((transfer_plate_labels_1,conc))\n",
        "labels_scaled,labels_max= Da.reversible_scaler(labels,None)\n",
        "\n",
        "labels_max"
      ]
    },
    {
      "cell_type": "code",
      "execution_count": null,
      "metadata": {
        "colab": {
          "base_uri": "https://localhost:8080/"
        },
        "id": "tgFHLmYb_8oy",
        "outputId": "337e8d60-69b9-4571-f784-9b43f5701d73"
      },
      "outputs": [
        {
          "name": "stdout",
          "output_type": "stream",
          "text": [
            "0\n",
            "0\n",
            "torch.Size([32, 1, 1340])\n",
            "torch.Size([32, 3])\n"
          ]
        }
      ],
      "source": [
        "from Raman_Dataset import RamanDataset\n",
        "from torch.utils.data import DataLoader\n",
        "import Data_augment as Da\n",
        "importlib.reload(Da)\n",
        "\n",
        "\n",
        "\n",
        "dataset1 = RamanDataset(train_data, labels_scaled)\n",
        "\n",
        "\n",
        "\n",
        "\n",
        "loader = DataLoader(dataset1, batch_size=32, shuffle=True)\n",
        "\n",
        "# Example: iterate\n",
        "for spectra_batch, targets_batch in loader:\n",
        "    print(spectra_batch.shape)  # (batch_size, 1, num_points)\n",
        "\n",
        "    print(targets_batch.shape)  # (batch_size, 3)\n",
        "    break"
      ]
    },
    {
      "cell_type": "markdown",
      "metadata": {
        "id": "aZpzGVZXArOG"
      },
      "source": [
        "-------Big Model training ------"
      ]
    },
    {
      "cell_type": "code",
      "execution_count": null,
      "metadata": {
        "id": "xtIm7mtZAAcu"
      },
      "outputs": [],
      "source": [
        "import SpectraCNN as CNN\n",
        "import torch\n",
        "import torch.nn as nn\n",
        "importlib.reload(CNN)\n",
        "\n",
        "\n",
        "device = torch.device(\"cuda\" if torch.cuda.is_available() else \"cpu\")\n",
        "print(\"Using device:\", device)\n",
        "\n",
        "\n",
        "model = CNN.SpectraCNN()\n",
        "\n",
        "model = model.to(device) #move to gpu if available\n",
        "\n",
        "optimizer = torch.optim.Adam(model.parameters(), lr=1e-3)\n",
        "criterion = nn.MSELoss()\n",
        "\n",
        "epochs=100\n",
        "\n",
        "for epoch in range(epochs):\n",
        "    running_loss=0\n",
        "    print(epoch)\n",
        "    for X_batch, y_batch in loader:\n",
        "        X_batch, y_batch = X_batch.to(device), y_batch.to(device)\n",
        "        optimizer.zero_grad()\n",
        "        preds = model(X_batch)\n",
        "        loss = criterion(preds, y_batch)\n",
        "        loss.backward()\n",
        "        optimizer.step()\n",
        "        running_loss += loss.item()\n",
        "    print(f\"Epoch {epoch}: Loss {running_loss/len(loader)}\")"
      ]
    },
    {
      "cell_type": "code",
      "execution_count": null,
      "metadata": {
        "id": "c8xvW0BoAiUZ"
      },
      "outputs": [],
      "source": [
        "clean_test=np.array(clean_test,dtype=np.float32)"
      ]
    },
    {
      "cell_type": "code",
      "execution_count": null,
      "metadata": {
        "id": "IQ56fNeiAl3-"
      },
      "outputs": [],
      "source": [
        "test_loader = DataLoader(RamanDataset(clean_test,None, train=False), batch_size=32, shuffle=False)\n",
        "\n",
        "\n",
        "model.eval()  # switch to evaluation mode\n",
        "predictions = []\n",
        "\n",
        "with torch.no_grad():\n",
        "    for spectra in test_loader:\n",
        "        outputs = model(spectra)  # shape (batch, 3)\n",
        "        predictions.append(outputs)\n",
        "\n",
        "predictions = torch.cat(predictions).numpy()\n",
        "predictions2=Da.reversible_scaler(predictions,labels_max,reverse=True)"
      ]
    },
    {
      "cell_type": "markdown",
      "metadata": {
        "id": "Tyy2d_QBBCGC"
      },
      "source": [
        "Cross validation for model tuning and ensembling"
      ]
    },
    {
      "cell_type": "code",
      "execution_count": null,
      "metadata": {
        "colab": {
          "base_uri": "https://localhost:8080/",
          "height": 373
        },
        "id": "qG-MvZLUA264",
        "outputId": "b9330984-1ba8-4b54-db7b-92946897d077"
      },
      "outputs": [
        {
          "name": "stdout",
          "output_type": "stream",
          "text": [
            "\n",
            "---- Fold 1/5 ----\n",
            "Using device: cpu\n"
          ]
        },
        {
          "ename": "KeyboardInterrupt",
          "evalue": "",
          "output_type": "error",
          "traceback": [
            "\u001b[0;31m---------------------------------------------------------------------------\u001b[0m",
            "\u001b[0;31mKeyboardInterrupt\u001b[0m                         Traceback (most recent call last)",
            "\u001b[0;32m/tmp/ipython-input-717073595.py\u001b[0m in \u001b[0;36m<cell line: 0>\u001b[0;34m()\u001b[0m\n\u001b[1;32m      8\u001b[0m \u001b[0mimportlib\u001b[0m\u001b[0;34m.\u001b[0m\u001b[0mreload\u001b[0m\u001b[0;34m(\u001b[0m\u001b[0mcv\u001b[0m\u001b[0;34m)\u001b[0m\u001b[0;34m\u001b[0m\u001b[0;34m\u001b[0m\u001b[0m\n\u001b[1;32m      9\u001b[0m \u001b[0;34m\u001b[0m\u001b[0m\n\u001b[0;32m---> 10\u001b[0;31m \u001b[0mtrain_loss\u001b[0m\u001b[0;34m,\u001b[0m \u001b[0mval_loss\u001b[0m \u001b[0;34m=\u001b[0m \u001b[0mcv\u001b[0m\u001b[0;34m.\u001b[0m\u001b[0mrun_kfold_cv\u001b[0m\u001b[0;34m(\u001b[0m\u001b[0mtrain_data\u001b[0m\u001b[0;34m,\u001b[0m \u001b[0mlabels_scaled\u001b[0m\u001b[0;34m,\u001b[0m \u001b[0mk\u001b[0m\u001b[0;34m=\u001b[0m\u001b[0;36m5\u001b[0m\u001b[0;34m,\u001b[0m \u001b[0mbatch_size\u001b[0m\u001b[0;34m=\u001b[0m\u001b[0;36m32\u001b[0m\u001b[0;34m,\u001b[0m \u001b[0mepochs\u001b[0m\u001b[0;34m=\u001b[0m\u001b[0;36m200\u001b[0m\u001b[0;34m,\u001b[0m \u001b[0mmodel_class\u001b[0m \u001b[0;34m=\u001b[0m \u001b[0mSpectraCNN\u001b[0m\u001b[0;34m)\u001b[0m\u001b[0;34m\u001b[0m\u001b[0;34m\u001b[0m\u001b[0m\n\u001b[0m",
            "\u001b[0;32m/content/Cross_validation.py\u001b[0m in \u001b[0;36mrun_kfold_cv\u001b[0;34m(spectra, targets, k, batch_size, epochs, model_class)\u001b[0m\n\u001b[1;32m     49\u001b[0m                 \u001b[0mloss\u001b[0m \u001b[0;34m=\u001b[0m \u001b[0mcriterion\u001b[0m\u001b[0;34m(\u001b[0m\u001b[0mout\u001b[0m\u001b[0;34m,\u001b[0m \u001b[0my\u001b[0m\u001b[0;34m)\u001b[0m\u001b[0;34m\u001b[0m\u001b[0;34m\u001b[0m\u001b[0m\n\u001b[1;32m     50\u001b[0m \u001b[0;34m\u001b[0m\u001b[0m\n\u001b[0;32m---> 51\u001b[0;31m                 \u001b[0mloss\u001b[0m\u001b[0;34m.\u001b[0m\u001b[0mbackward\u001b[0m\u001b[0;34m(\u001b[0m\u001b[0;34m)\u001b[0m\u001b[0;34m\u001b[0m\u001b[0;34m\u001b[0m\u001b[0m\n\u001b[0m\u001b[1;32m     52\u001b[0m                 \u001b[0moptimizer\u001b[0m\u001b[0;34m.\u001b[0m\u001b[0mstep\u001b[0m\u001b[0;34m(\u001b[0m\u001b[0;34m)\u001b[0m\u001b[0;34m\u001b[0m\u001b[0;34m\u001b[0m\u001b[0m\n\u001b[1;32m     53\u001b[0m                 \u001b[0mepoch_train_loss\u001b[0m \u001b[0;34m+=\u001b[0m \u001b[0mloss\u001b[0m\u001b[0;34m.\u001b[0m\u001b[0mitem\u001b[0m\u001b[0;34m(\u001b[0m\u001b[0;34m)\u001b[0m\u001b[0;34m\u001b[0m\u001b[0;34m\u001b[0m\u001b[0m\n",
            "\u001b[0;32m/usr/local/lib/python3.12/dist-packages/torch/_tensor.py\u001b[0m in \u001b[0;36mbackward\u001b[0;34m(self, gradient, retain_graph, create_graph, inputs)\u001b[0m\n\u001b[1;32m    645\u001b[0m                 \u001b[0minputs\u001b[0m\u001b[0;34m=\u001b[0m\u001b[0minputs\u001b[0m\u001b[0;34m,\u001b[0m\u001b[0;34m\u001b[0m\u001b[0;34m\u001b[0m\u001b[0m\n\u001b[1;32m    646\u001b[0m             )\n\u001b[0;32m--> 647\u001b[0;31m         torch.autograd.backward(\n\u001b[0m\u001b[1;32m    648\u001b[0m             \u001b[0mself\u001b[0m\u001b[0;34m,\u001b[0m \u001b[0mgradient\u001b[0m\u001b[0;34m,\u001b[0m \u001b[0mretain_graph\u001b[0m\u001b[0;34m,\u001b[0m \u001b[0mcreate_graph\u001b[0m\u001b[0;34m,\u001b[0m \u001b[0minputs\u001b[0m\u001b[0;34m=\u001b[0m\u001b[0minputs\u001b[0m\u001b[0;34m\u001b[0m\u001b[0;34m\u001b[0m\u001b[0m\n\u001b[1;32m    649\u001b[0m         )\n",
            "\u001b[0;32m/usr/local/lib/python3.12/dist-packages/torch/autograd/__init__.py\u001b[0m in \u001b[0;36mbackward\u001b[0;34m(tensors, grad_tensors, retain_graph, create_graph, grad_variables, inputs)\u001b[0m\n\u001b[1;32m    352\u001b[0m     \u001b[0;31m# some Python versions print out the first line of a multi-line function\u001b[0m\u001b[0;34m\u001b[0m\u001b[0;34m\u001b[0m\u001b[0m\n\u001b[1;32m    353\u001b[0m     \u001b[0;31m# calls in the traceback and some print out the last line\u001b[0m\u001b[0;34m\u001b[0m\u001b[0;34m\u001b[0m\u001b[0m\n\u001b[0;32m--> 354\u001b[0;31m     _engine_run_backward(\n\u001b[0m\u001b[1;32m    355\u001b[0m         \u001b[0mtensors\u001b[0m\u001b[0;34m,\u001b[0m\u001b[0;34m\u001b[0m\u001b[0;34m\u001b[0m\u001b[0m\n\u001b[1;32m    356\u001b[0m         \u001b[0mgrad_tensors_\u001b[0m\u001b[0;34m,\u001b[0m\u001b[0;34m\u001b[0m\u001b[0;34m\u001b[0m\u001b[0m\n",
            "\u001b[0;32m/usr/local/lib/python3.12/dist-packages/torch/autograd/graph.py\u001b[0m in \u001b[0;36m_engine_run_backward\u001b[0;34m(t_outputs, *args, **kwargs)\u001b[0m\n\u001b[1;32m    827\u001b[0m         \u001b[0munregister_hooks\u001b[0m \u001b[0;34m=\u001b[0m \u001b[0m_register_logging_hooks_on_whole_graph\u001b[0m\u001b[0;34m(\u001b[0m\u001b[0mt_outputs\u001b[0m\u001b[0;34m)\u001b[0m\u001b[0;34m\u001b[0m\u001b[0;34m\u001b[0m\u001b[0m\n\u001b[1;32m    828\u001b[0m     \u001b[0;32mtry\u001b[0m\u001b[0;34m:\u001b[0m\u001b[0;34m\u001b[0m\u001b[0;34m\u001b[0m\u001b[0m\n\u001b[0;32m--> 829\u001b[0;31m         return Variable._execution_engine.run_backward(  # Calls into the C++ engine to run the backward pass\n\u001b[0m\u001b[1;32m    830\u001b[0m             \u001b[0mt_outputs\u001b[0m\u001b[0;34m,\u001b[0m \u001b[0;34m*\u001b[0m\u001b[0margs\u001b[0m\u001b[0;34m,\u001b[0m \u001b[0;34m**\u001b[0m\u001b[0mkwargs\u001b[0m\u001b[0;34m\u001b[0m\u001b[0;34m\u001b[0m\u001b[0m\n\u001b[1;32m    831\u001b[0m         )  # Calls into the C++ engine to run the backward pass\n",
            "\u001b[0;31mKeyboardInterrupt\u001b[0m: "
          ]
        }
      ],
      "source": [
        "import torch\n",
        "from torch.utils.data import Dataset, DataLoader, Subset\n",
        "from sklearn.model_selection import KFold\n",
        "from SpectraCNN import SpectraCNN\n",
        "\n",
        "\n",
        "import Cross_validation as cv\n",
        "importlib.reload(cv)\n",
        "\n",
        "train_loss, val_loss = cv.run_kfold_cv(train_data, labels_scaled, k=5, batch_size=32, epochs=10, model_class = SpectraCNN)"
      ]
    }
  ],
  "metadata": {
    "colab": {
      "provenance": []
    },
    "kernelspec": {
      "display_name": "base",
      "language": "python",
      "name": "python3"
    },
    "language_info": {
      "codemirror_mode": {
        "name": "ipython",
        "version": 3
      },
      "file_extension": ".py",
      "mimetype": "text/x-python",
      "name": "python",
      "nbconvert_exporter": "python",
      "pygments_lexer": "ipython3",
      "version": "3.10.16"
    }
  },
  "nbformat": 4,
  "nbformat_minor": 0
}
